{
 "cells": [
  {
   "cell_type": "code",
   "execution_count": 18,
   "id": "0427a377-3515-4eaa-81bf-3b7285285e29",
   "metadata": {},
   "outputs": [],
   "source": [
    "import numpy as np\n",
    "import pandas as pd"
   ]
  },
  {
   "cell_type": "code",
   "execution_count": 10,
   "id": "6e819e98-e450-4b64-a08f-0f77aedafc92",
   "metadata": {},
   "outputs": [
    {
     "name": "stdout",
     "output_type": "stream",
     "text": [
      "module https://tfhub.dev/google/universal-sentence-encoder-large/5 loaded\n"
     ]
    }
   ],
   "source": [
    "import tensorflow_hub as hub\n",
    "module_url = \"https://tfhub.dev/google/universal-sentence-encoder-large/5\" #@param [\"https://tfhub.dev/google/universal-sentence-encoder/4\", \"https://tfhub.dev/google/universal-sentence-encoder-large/5\"]\n",
    "model = hub.load(module_url)\n",
    "print (\"module %s loaded\" % module_url)\n",
    "def embed(input):\n",
    "  return model(input)"
   ]
  },
  {
   "cell_type": "code",
   "execution_count": 22,
   "id": "956e2d91-2957-41f7-8136-acc2208f361e",
   "metadata": {},
   "outputs": [],
   "source": [
    "import re\n",
    "def clean_text(text):\n",
    "    # Remove non-ASCII characters\n",
    "    ascii_text = re.sub(r'[^\\x00-\\x7F]+', '', text)\n",
    "    \n",
    "    # Replace / and \\ with space\n",
    "    cleaned_text = re.sub(r'[/\\\\]', ' ', ascii_text)\n",
    "    \n",
    "    return cleaned_text"
   ]
  },
  {
   "cell_type": "markdown",
   "id": "fc9d867d-cb7e-4bc3-bc9f-59d9b6cf0875",
   "metadata": {},
   "source": [
    "## Prediction content to sentence embedding"
   ]
  },
  {
   "cell_type": "code",
   "execution_count": 23,
   "id": "01259b46-1658-4f0e-9bcd-caa1f2b2487f",
   "metadata": {},
   "outputs": [],
   "source": [
    "film_ls=['theshoe','therock','theboyfriend','keithreynolds','cmiyc_long','busstop']\n",
    "for film in film_ls:\n",
    "    output_folder = '../../Cleaned Data/Prediction_Cleaned_Data/embedding'\n",
    "    filename=f'../../Cleaned Data//Prediction_Cleaned_Data/{film}_prediction_cleaned.csv'\n",
    "    df=pd.read_csv(filename)\n",
    "    #select only the first prediction people made\n",
    "    df=df[df['prediction_number']==1]\n",
    "    # Filter for test phase\n",
    "    df_test = df[df['phase_type'] == 'test']\n",
    "    for (c, seg), group in df_test.groupby(['counterbalance', 'video_segment']):\n",
    "        # Clean text and Collect all prediction_content lines into a list\n",
    "        alllines = group['prediction_content'].apply(lambda x : clean_text(x)).tolist()   \n",
    "        # Generate embeddings\n",
    "        message_embeddings = embed(alllines)   \n",
    "        # Save embeddings as .npy file\n",
    "        np.save(f\"{output_folder}/{film}/{film}_test_c{c}_seg{seg}.npy\", np.array(message_embeddings))\n",
    "        \n"
   ]
  },
  {
   "cell_type": "markdown",
   "id": "89308828-cdff-4eae-968e-8bb1c9d80be2",
   "metadata": {},
   "source": [
    "## Description content to sentence embedding"
   ]
  },
  {
   "cell_type": "code",
   "execution_count": 27,
   "id": "23783454-7b3d-4501-8d68-d7fb4c88f818",
   "metadata": {},
   "outputs": [],
   "source": [
    "film_ls=['theshoe','therock','theboyfriend','keithreynolds','cmiyc_long','busstop']\n",
    "for film in film_ls:\n",
    "    output_folder = '../../Cleaned Data/Description_Cleaned_Data/embedding'\n",
    "    filename=f'../../Cleaned Data//Description_Cleaned_Data/{film}_description_cleaned.csv'\n",
    "    df=pd.read_csv(filename)\n",
    "    # Filter for test phase\n",
    "    df_test = df[df['phase_type'] == 'test']\n",
    "    for (c, seg), group in df_test.groupby(['counterbalance', 'description_stop']):\n",
    "        # Clean text and Collect all prediction_content lines into a list\n",
    "        alllines = group['description_content'].apply(lambda x : clean_text(x)).tolist()   \n",
    "        # Generate embeddings\n",
    "        message_embeddings = embed(alllines)   \n",
    "        # Save embeddings as .npy file\n",
    "        np.save(f\"{output_folder}/{film}/{film}_test_c{c}_seg{seg}.npy\", np.array(message_embeddings))\n",
    "        \n"
   ]
  },
  {
   "cell_type": "code",
   "execution_count": null,
   "id": "b2864545-b69d-49b5-b04b-658aeb208d10",
   "metadata": {},
   "outputs": [],
   "source": []
  }
 ],
 "metadata": {
  "kernelspec": {
   "display_name": "Python 3 (ipykernel)",
   "language": "python",
   "name": "python3"
  },
  "language_info": {
   "codemirror_mode": {
    "name": "ipython",
    "version": 3
   },
   "file_extension": ".py",
   "mimetype": "text/x-python",
   "name": "python",
   "nbconvert_exporter": "python",
   "pygments_lexer": "ipython3",
   "version": "3.12.4"
  }
 },
 "nbformat": 4,
 "nbformat_minor": 5
}
