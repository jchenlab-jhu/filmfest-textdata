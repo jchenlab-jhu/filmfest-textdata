{
 "cells": [
  {
   "cell_type": "code",
   "execution_count": 1,
   "id": "908aeb62-0cc2-4422-9844-d2838ee7493c",
   "metadata": {},
   "outputs": [],
   "source": [
    "import pandas as pd\n",
    "import numpy as np\n",
    "from functools import reduce\n"
   ]
  },
  {
   "cell_type": "code",
   "execution_count": 2,
   "id": "6a2f1213-8189-415c-a59d-38c7d5bab20b",
   "metadata": {},
   "outputs": [],
   "source": [
    "def clean(df):\n",
    "    df=df[['SEG-12 title','SEG-1000 Start Time (m.ss)','SEG-1000 End Time (m.ss)','Valence','Arousal']]\n",
    "    df.loc[:,'SEG-12 title'] = df['SEG-12 title'].ffill()\n",
    "    df.loc[:,'SEG-12 title'] = df['SEG-12 title'].bfill()\n",
    "    return df"
   ]
  },
  {
   "cell_type": "code",
   "execution_count": 9,
   "id": "6f65bea2-9b45-4da2-b53e-5c4a5946090f",
   "metadata": {},
   "outputs": [
    {
     "name": "stdout",
     "output_type": "stream",
     "text": [
      "Index(['SEG-12 title', 'SEG-216 number', 'Start Time (m.ss)',\n",
      "       'End Time (m.ss)', 'SEG-216 Description', 'SEG-1000 Start Time (m.ss)',\n",
      "       'SEG-1000 End Time (m.ss)', 'SEG-1000 boundary strength', 'Valence',\n",
      "       'Arousal', 'SEG-1000 Description', 'Unnamed: 11'],\n",
      "      dtype='object')\n"
     ]
    },
    {
     "name": "stderr",
     "output_type": "stream",
     "text": [
      "/var/folders/lv/hmm4119x7px_z21f0r8dynm80000gp/T/ipykernel_85255/56244701.py:16: FutureWarning: Downcasting behavior in `replace` is deprecated and will be removed in a future version. To retain the old behavior, explicitly call `result.infer_objects(copy=False)`. To opt-in to the future behavior, set `pd.set_option('future.no_silent_downcasting', True)`\n",
      "  final_df.loc[:,col] = final_df[col].fillna('').str.replace(' ', '').replace('', np.nan)\n"
     ]
    }
   ],
   "source": [
    "df1=pd.read_excel('../../Raw Data/annotations/FilmFest_Annotation KM.xlsx')\n",
    "print(df1.columns)\n",
    "df1=clean(df1)\n",
    "\n",
    "df2=pd.read_csv('../../Raw Data/annotations/FilmFest_Annotation_JL_spellchecked_YJ.xlsx - Sheet1.csv')\n",
    "df2=clean(df2)\n",
    "\n",
    "df3=pd.read_excel('../../Raw Data/annotations/FilmFest_Annotation_RC CMIYC Extended.xlsx')\n",
    "df3=clean(df3)\n",
    "dfs = [df1, df2, df3]\n",
    "final_df = reduce(lambda  left,right: pd.merge(left,right,on=['SEG-12 title','SEG-1000 Start Time (m.ss)','SEG-1000 End Time (m.ss)'],\n",
    "                                            how='outer'), dfs)\n",
    "final_df=final_df.dropna(subset='SEG-1000 Start Time (m.ss)')\n",
    "# remove cell with empty string\n",
    "for col in ['Arousal_y','Arousal_x','Arousal']:\n",
    "    final_df.loc[:,col] = final_df[col].fillna('').str.replace(' ', '').replace('', np.nan)\n",
    "#calculate average arousal\n",
    "final_df.loc[:,'Arousal_avg']=final_df[['Arousal_y','Arousal_x','Arousal']].astype('float').mean(axis=1)"
   ]
  },
  {
   "cell_type": "code",
   "execution_count": 15,
   "id": "bda216ec-92d4-4140-8355-b700054b7f9c",
   "metadata": {},
   "outputs": [],
   "source": [
    "#merge valence rating\n",
    "\n",
    "def merge_row(row):\n",
    "    values = set(row.dropna())\n",
    "    if len(values) == 0:\n",
    "        return np.nan\n",
    "    elif len(values) == 1:\n",
    "        value=values.pop()\n",
    "        if value=='+':\n",
    "            return 'pos'\n",
    "        else:\n",
    "            return 'neg'\n",
    "    else:\n",
    "        return 'neutral'  # This will give '+' if both '+' and '-' are present\n",
    "\n",
    "final_df.loc[:,'valence_merged'] = final_df[['Valence_x','Valence_y','Valence']].apply(merge_row, axis=1)\n",
    "result=final_df[['SEG-12 title','SEG-1000 Start Time (m.ss)','SEG-1000 End Time (m.ss)','valence_merged','Arousal_avg']].sort_values([\"SEG-12 title\",'SEG-1000 Start Time (m.ss)'])"
   ]
  },
  {
   "cell_type": "code",
   "execution_count": 18,
   "id": "9b929677-ba85-49a1-810a-be8ec21b65f7",
   "metadata": {},
   "outputs": [],
   "source": [
    "result.to_csv('../../Analysis Data/behavior_measurements/valence_arousal_summary.csv',index=False)"
   ]
  },
  {
   "cell_type": "code",
   "execution_count": null,
   "id": "51874460-8485-4d57-aa4b-a1eb23e81024",
   "metadata": {},
   "outputs": [],
   "source": []
  },
  {
   "cell_type": "code",
   "execution_count": null,
   "id": "074afc16-6981-44b2-b353-31727e2fdae5",
   "metadata": {},
   "outputs": [],
   "source": []
  },
  {
   "cell_type": "code",
   "execution_count": null,
   "id": "4a5726ab-0745-4ea6-a676-4d024320eb69",
   "metadata": {},
   "outputs": [],
   "source": []
  }
 ],
 "metadata": {
  "kernelspec": {
   "display_name": "Python 3 (ipykernel)",
   "language": "python",
   "name": "python3"
  },
  "language_info": {
   "codemirror_mode": {
    "name": "ipython",
    "version": 3
   },
   "file_extension": ".py",
   "mimetype": "text/x-python",
   "name": "python",
   "nbconvert_exporter": "python",
   "pygments_lexer": "ipython3",
   "version": "3.12.4"
  }
 },
 "nbformat": 4,
 "nbformat_minor": 5
}
