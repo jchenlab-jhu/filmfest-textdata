{
 "cells": [
  {
   "cell_type": "code",
   "execution_count": 1,
   "id": "0427a377-3515-4eaa-81bf-3b7285285e29",
   "metadata": {},
   "outputs": [],
   "source": [
    "import numpy as np\n",
    "import pandas as pd\n"
   ]
  },
  {
   "cell_type": "code",
   "execution_count": 2,
   "id": "6e819e98-e450-4b64-a08f-0f77aedafc92",
   "metadata": {},
   "outputs": [
    {
     "name": "stdout",
     "output_type": "stream",
     "text": [
      "module https://tfhub.dev/google/universal-sentence-encoder-large/5 loaded\n"
     ]
    }
   ],
   "source": [
    "import tensorflow_hub as hub\n",
    "module_url = \"https://tfhub.dev/google/universal-sentence-encoder-large/5\" #@param [\"https://tfhub.dev/google/universal-sentence-encoder/4\", \"https://tfhub.dev/google/universal-sentence-encoder-large/5\"]\n",
    "model = hub.load(module_url)\n",
    "print (\"module %s loaded\" % module_url)\n",
    "def embed(input):\n",
    "  return model(input)"
   ]
  },
  {
   "cell_type": "code",
   "execution_count": null,
   "id": "01259b46-1658-4f0e-9bcd-caa1f2b2487f",
   "metadata": {},
   "outputs": [],
   "source": [
    "#film_ls=['theshoe','therock','theboyfriend','keithreynolds','cmiyc_long','busstop']\n",
    "film_ls=['theshoe']\n",
    "for film in film_ls:\n",
    "    output_folder = '../'\n",
    "    filename='../data/Prediction Consensus Data 2023/Predictions/'+film+'/Merged/raw/'+film+\"_merged_test_full.csv\"\n",
    "    df=pd.read_csv(filename)\n",
    "    # Filter for test phase\n",
    "    df_test = df[df['phase'] == 'test']\n",
    "    for (c, seg), group in df_test.groupby(['counterbalance', 'video_segment']):\n",
    "        # Collect all prediction_content lines into a list\n",
    "        alllines = group['prediction_content'].tolist()   \n",
    "        # Generate embeddings\n",
    "        message_embeddings = embed(alllines)   \n",
    "        # Save embeddings as .npy file\n",
    "        np.save(f\"{output_folder}/{film}_test_c{c}_seg{seg}.npy\", np.array(message_embeddings))\n",
    "        \n"
   ]
  }
 ],
 "metadata": {
  "kernelspec": {
   "display_name": "Python 3 (ipykernel)",
   "language": "python",
   "name": "python3"
  },
  "language_info": {
   "codemirror_mode": {
    "name": "ipython",
    "version": 3
   },
   "file_extension": ".py",
   "mimetype": "text/x-python",
   "name": "python",
   "nbconvert_exporter": "python",
   "pygments_lexer": "ipython3",
   "version": "3.12.4"
  }
 },
 "nbformat": 4,
 "nbformat_minor": 5
}
