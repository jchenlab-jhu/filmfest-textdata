{
 "cells": [
  {
   "cell_type": "code",
   "execution_count": 6,
   "id": "a8bee000-1d55-4ecf-8322-4fd399db5db4",
   "metadata": {},
   "outputs": [],
   "source": [
    "import pandas as pd"
   ]
  },
  {
   "cell_type": "markdown",
   "id": "5e7b0f57-e81d-4558-8f06-4ed574215bd0",
   "metadata": {},
   "source": [
    "## check in description run2 data contains previous runs"
   ]
  },
  {
   "cell_type": "code",
   "execution_count": 20,
   "id": "db3a4a97-6993-40c9-b811-d7c791c4137f",
   "metadata": {},
   "outputs": [],
   "source": [
    "base_dir1 = \"../Raw Data/Descriptions/Description Raw Psiturk Data Files/cmiyc_long/2023- Full Run/\"\n",
    "base_dir = \"../Raw Data/Descriptions/Description Raw Psiturk Data Files/cmiyc_long/2022- Pilot Run/\"\n",
    "base_dir2 = \"../Raw Data/Descriptions/Description_Consensus_Run2_data/cmiyc_long/\"\n",
    "filename = \"trialdata.csv\""
   ]
  },
  {
   "cell_type": "code",
   "execution_count": 21,
   "id": "ae19bfe5-192e-412e-a3c3-0f8a70e693fa",
   "metadata": {},
   "outputs": [],
   "source": [
    "df1 = pd.read_csv(base_dir1+filename, header=None, comment=\"#\")\n",
    "df2 = pd.read_csv(base_dir2+filename, header=None, comment=\"#\")\n",
    "df = pd.read_csv(base_dir+filename, header=None, comment=\"#\")\n",
    "\n",
    "df.columns = [\"ID\", \"Trial\", \"Timestamp\", \"Datastring\"]\n",
    "df1.columns = [\"ID\", \"Trial\", \"Timestamp\", \"Datastring\"]\n",
    "df2.columns = [\"ID\", \"Trial\", \"Timestamp\", \"Datastring\"]"
   ]
  },
  {
   "cell_type": "code",
   "execution_count": 22,
   "id": "d478743e-a9b3-401d-aca2-5960c819ea7a",
   "metadata": {},
   "outputs": [],
   "source": [
    "description1 = df1['ID'].unique()\n",
    "description2 = df2['ID'].unique()\n",
    "description = df['ID'].unique()\n"
   ]
  },
  {
   "cell_type": "code",
   "execution_count": 24,
   "id": "a68676c1-a82f-4bbb-9ec1-f865538ef77d",
   "metadata": {},
   "outputs": [
    {
     "name": "stdout",
     "output_type": "stream",
     "text": [
      "True\n",
      "[ True  True  True  True  True  True  True  True  True  True  True  True\n",
      "  True  True  True  True  True  True  True  True  True  True  True  True\n",
      "  True  True  True  True  True  True  True  True  True  True  True  True\n",
      "  True  True  True  True  True  True  True  True  True  True  True  True\n",
      "  True  True  True  True  True  True  True  True  True  True  True  True\n",
      "  True  True  True  True  True  True  True  True  True  True  True  True\n",
      "  True  True  True  True  True  True  True  True  True  True  True  True\n",
      "  True  True  True  True  True  True  True  True  True  True  True  True\n",
      "  True  True  True  True  True  True  True  True  True  True  True  True\n",
      "  True  True  True  True  True  True  True  True  True  True  True  True\n",
      "  True  True  True  True  True  True  True  True  True  True  True  True\n",
      "  True  True  True  True  True  True  True  True  True  True]\n"
     ]
    }
   ],
   "source": [
    "import numpy as np\n",
    "\n",
    "# check membership\n",
    "mask = np.isin(description1, description2)\n",
    "\n",
    "# True if ALL elements of description1 are in description2\n",
    "all_in = mask.all()\n",
    "\n",
    "print(all_in)       # True/False\n",
    "print(mask)         # element-wise check\n"
   ]
  },
  {
   "cell_type": "code",
   "execution_count": 25,
   "id": "0b44e4b8-4819-4f55-9a76-befb147f0333",
   "metadata": {},
   "outputs": [
    {
     "name": "stdout",
     "output_type": "stream",
     "text": [
      "False\n",
      "[False False False False False False False False False False False False\n",
      " False False False False False False False False False False False False\n",
      " False False False False False False False False False False False]\n"
     ]
    }
   ],
   "source": [
    "# check membership\n",
    "mask = np.isin(description, description2)\n",
    "\n",
    "# True if ALL elements of description are in description2\n",
    "all_in = mask.all()\n",
    "\n",
    "print(all_in)       # True/False\n",
    "print(mask)         # element-wise check\n"
   ]
  },
  {
   "cell_type": "code",
   "execution_count": 27,
   "id": "73e77301-9867-44b6-b9f1-870d67bbefa0",
   "metadata": {},
   "outputs": [
    {
     "name": "stdout",
     "output_type": "stream",
     "text": [
      "DateTime: 2023-08-21 15:28:54.266000\n"
     ]
    }
   ],
   "source": [
    "from datetime import datetime\n",
    "\n",
    "ts_ms = 1692646134266  # example in milliseconds\n",
    "dt = datetime.fromtimestamp(ts_ms / 1000)\n",
    "\n",
    "print(\"DateTime:\", dt)\n"
   ]
  },
  {
   "cell_type": "code",
   "execution_count": 12,
   "id": "3d08ae1c-35dd-4e8b-8a4f-82ac0704cea1",
   "metadata": {},
   "outputs": [],
   "source": [
    "old_data_folder = '/Users/flory/OneDrive - Johns Hopkins/Chen Lab/projects/prediction_description_consensus/data/Prediction Consensus Merged-2025-04-03 Update/'\n",
    "new_data_folder = '../Cleaned Data/Prediction_Cleaned_Data/'\n",
    "movie_list = [\"busstop\", \"cmiyc_long\", \"keithreynolds\", \"theboyfriend\", \"therock\", \"theshoe\"]"
   ]
  },
  {
   "cell_type": "code",
   "execution_count": 60,
   "id": "b447d565-8cd1-494e-a6c2-d9f839c34784",
   "metadata": {},
   "outputs": [],
   "source": [
    "old_data_folder = '/Users/flory/OneDrive - Johns Hopkins/Chen Lab/projects/prediction_description_consensus/data/Description_Consensus_Run2_data/'\n",
    "new_data_folder = '../Cleaned Data/Description_Cleaned_Data/'\n",
    "movie_list = [\"busstop\", \"cmiyc_long\", \"keithreynolds\", \"theboyfriend\", \"therock\", \"theshoe\"]"
   ]
  },
  {
   "cell_type": "code",
   "execution_count": 63,
   "id": "dada005d-882a-4f9d-af7a-6b80d50533c3",
   "metadata": {},
   "outputs": [],
   "source": [
    "def compare_table(film,old_data_folder,new_data_folder):\n",
    "    file_old = old_data_folder+film+'/raw/'+film+'_test_full.csv'\n",
    "    file_new = new_data_folder+film+'_description_cleaned.csv'\n",
    "\n",
    "    df_old = pd.read_csv(file_old)\n",
    "    df_new = pd.read_csv(file_new)\n",
    "    print(film)\n",
    "    print(df_old[\"ID\"].nunique())\n",
    "    print(df_new[\"ID\"].nunique())\n",
    "    \n",
    "\n",
    "    # specify the columns to compare\n",
    "    keys = [\"vidpath\", \"tag\", \"description_content\"]\n",
    "    \n",
    "    # find rows in old but not in new\n",
    "    diff_old = df_old.merge(df_new, on=keys, how=\"outer\", indicator=True).query('_merge == \"left_only\"').drop(columns=\"_merge\")\n",
    "    \n",
    "    # find rows in new but not in old\n",
    "    diff_new = df_old.merge(df_new, on=keys, how=\"outer\", indicator=True).query('_merge == \"right_only\"').drop(columns=\"_merge\")\n",
    "    \n",
    "    # combine both differences\n",
    "    diff_all = pd.concat([diff_old, diff_new], ignore_index=True)\n",
    "    \n",
    "    print(diff_all.shape)\n",
    "    return diff_all"
   ]
  },
  {
   "cell_type": "code",
   "execution_count": 64,
   "id": "0e36dc1d-7277-4d44-a5d9-207291d3073c",
   "metadata": {},
   "outputs": [
    {
     "name": "stdout",
     "output_type": "stream",
     "text": [
      "busstop\n",
      "271\n",
      "277\n",
      "(37, 31)\n",
      "cmiyc_long\n",
      "271\n",
      "283\n",
      "(294, 31)\n",
      "keithreynolds\n",
      "271\n",
      "281\n",
      "(57, 31)\n",
      "theboyfriend\n",
      "270\n",
      "278\n",
      "(61, 31)\n",
      "therock\n",
      "270\n",
      "279\n",
      "(39, 31)\n",
      "theshoe\n",
      "271\n",
      "277\n",
      "(8, 31)\n"
     ]
    }
   ],
   "source": [
    "for film in movie_list:\n",
    "    compare_table(film,old_data_folder,new_data_folder)"
   ]
  },
  {
   "cell_type": "code",
   "execution_count": 96,
   "id": "ea97f7d8-a113-4c9d-95e5-20b1d3b2ee6e",
   "metadata": {},
   "outputs": [
    {
     "name": "stdout",
     "output_type": "stream",
     "text": [
      "busstop\n",
      "271\n",
      "277\n",
      "(37, 31)\n"
     ]
    }
   ],
   "source": [
    "df=compare_table(\"busstop\",old_data_folder,new_data_folder)"
   ]
  },
  {
   "cell_type": "code",
   "execution_count": 97,
   "id": "a8983de5-5023-417e-b8c1-ea921c294688",
   "metadata": {},
   "outputs": [
    {
     "data": {
      "text/plain": [
       "Index(['Unnamed: 0', 'ID_x', 'Timestamp_x', 'Trial_x', 'counterbalance_x',\n",
       "       'phase', 'description_stop_x', 'paired_vid_x', 'onset_x', 'offset_x',\n",
       "       'description_content', 'importance_x', 'time_x', 'tag', 'vidpath',\n",
       "       'Datastring_x', 'test_trial', 'ID_y', 'OriginalID', 'Timestamp_y',\n",
       "       'Trial_y', 'counterbalance_y', 'phase_type', 'description_stop_y',\n",
       "       'paired_vid_y', 'onset_y', 'offset_y', 'importance_y', 'time_y',\n",
       "       'Datastring_y', 'data_set'],\n",
       "      dtype='object')"
      ]
     },
     "execution_count": 97,
     "metadata": {},
     "output_type": "execute_result"
    }
   ],
   "source": [
    "df.columns"
   ]
  },
  {
   "cell_type": "code",
   "execution_count": 98,
   "id": "400d7384-37cf-472c-84ec-50f7b3a29fef",
   "metadata": {},
   "outputs": [
    {
     "data": {
      "text/html": [
       "<div>\n",
       "<style scoped>\n",
       "    .dataframe tbody tr th:only-of-type {\n",
       "        vertical-align: middle;\n",
       "    }\n",
       "\n",
       "    .dataframe tbody tr th {\n",
       "        vertical-align: top;\n",
       "    }\n",
       "\n",
       "    .dataframe thead th {\n",
       "        text-align: right;\n",
       "    }\n",
       "</style>\n",
       "<table border=\"1\" class=\"dataframe\">\n",
       "  <thead>\n",
       "    <tr style=\"text-align: right;\">\n",
       "      <th></th>\n",
       "      <th>description_content</th>\n",
       "      <th>ID_y</th>\n",
       "      <th>offset_y</th>\n",
       "    </tr>\n",
       "  </thead>\n",
       "  <tbody>\n",
       "    <tr>\n",
       "      <th>33</th>\n",
       "      <td>The woman who approached the guy at the bus st...</td>\n",
       "      <td>D2022M01_153</td>\n",
       "      <td>100.0</td>\n",
       "    </tr>\n",
       "    <tr>\n",
       "      <th>34</th>\n",
       "      <td>The woman started to approach the car that was...</td>\n",
       "      <td>D2022M01_153</td>\n",
       "      <td>190.0</td>\n",
       "    </tr>\n",
       "    <tr>\n",
       "      <th>35</th>\n",
       "      <td>After the standoff in the middle of the street...</td>\n",
       "      <td>D2022M01_153</td>\n",
       "      <td>280.0</td>\n",
       "    </tr>\n",
       "    <tr>\n",
       "      <th>36</th>\n",
       "      <td>The man from the car and the woman both shot e...</td>\n",
       "      <td>D2022M01_153</td>\n",
       "      <td>370.0</td>\n",
       "    </tr>\n",
       "  </tbody>\n",
       "</table>\n",
       "</div>"
      ],
      "text/plain": [
       "                                  description_content          ID_y  offset_y\n",
       "33  The woman who approached the guy at the bus st...  D2022M01_153     100.0\n",
       "34  The woman started to approach the car that was...  D2022M01_153     190.0\n",
       "35  After the standoff in the middle of the street...  D2022M01_153     280.0\n",
       "36  The man from the car and the woman both shot e...  D2022M01_153     370.0"
      ]
     },
     "execution_count": 98,
     "metadata": {},
     "output_type": "execute_result"
    }
   ],
   "source": [
    "df[['description_content','ID_y','offset_y']].iloc[33:37]"
   ]
  },
  {
   "cell_type": "code",
   "execution_count": 103,
   "id": "80c8c982-ed18-4328-878f-5946a3e7c6c2",
   "metadata": {},
   "outputs": [
    {
     "data": {
      "text/plain": [
       "array([1051., 1169., 1191.,   nan])"
      ]
     },
     "execution_count": 103,
     "metadata": {},
     "output_type": "execute_result"
    }
   ],
   "source": [
    "df['ID_x'].unique()"
   ]
  },
  {
   "cell_type": "code",
   "execution_count": 101,
   "id": "de19d56a-6b15-4b88-bbb3-daffa5818955",
   "metadata": {},
   "outputs": [
    {
     "data": {
      "text/plain": [
       "array([nan, 'Drun2M01_497', 'Drun2M01_2013', 'D2022M01_1626',\n",
       "       'D2022M01_1442', 'D2022M01_1328', 'Drun2M01_998', 'D2022M01_1949',\n",
       "       'D2022M01_584', 'D2022M01_153'], dtype=object)"
      ]
     },
     "execution_count": 101,
     "metadata": {},
     "output_type": "execute_result"
    }
   ],
   "source": [
    "df['ID_y'].unique()"
   ]
  },
  {
   "cell_type": "code",
   "execution_count": 89,
   "id": "051bdbc2-d79b-496f-809e-b7e2ae83d6a2",
   "metadata": {},
   "outputs": [],
   "source": [
    "base_dir = \"../Raw Data/Description Raw Psiturk Data Files/cmiyc_long/2022- Pilot Run/\"\n",
    "df = pd.read_csv(base_dir+'trialdata.csv', header=None, comment=\"#\", names=[\"ID\", \"Trial\", \"Timestamp\", \"Datastring\"])"
   ]
  },
  {
   "cell_type": "code",
   "execution_count": null,
   "id": "3b9bee52-fca0-45fc-9c68-2183e1e052b0",
   "metadata": {},
   "outputs": [],
   "source": []
  }
 ],
 "metadata": {
  "kernelspec": {
   "display_name": "Python 3 (ipykernel)",
   "language": "python",
   "name": "python3"
  },
  "language_info": {
   "codemirror_mode": {
    "name": "ipython",
    "version": 3
   },
   "file_extension": ".py",
   "mimetype": "text/x-python",
   "name": "python",
   "nbconvert_exporter": "python",
   "pygments_lexer": "ipython3",
   "version": "3.12.4"
  }
 },
 "nbformat": 4,
 "nbformat_minor": 5
}
